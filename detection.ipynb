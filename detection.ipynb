{
 "cells": [
  {
   "cell_type": "code",
   "execution_count": 2,
   "metadata": {
    "_cell_guid": "b1076dfc-b9ad-4769-8c92-a6c4dae69d19",
    "_uuid": "8f2839f25d086af736a60e9eeb907d3b93b6e0e5"
   },
   "outputs": [
    {
     "name": "stdout",
     "output_type": "stream",
     "text": [
      "./Dataset/test/PNEUMONIA/SARS-10.1148rg.242035193-g04mr34g05x-Fig5-day9.jpeg\n",
      "./Dataset/test/PNEUMONIA/SARS-10.1148rg.242035193-g04mr34g09a-Fig9a-day17.jpeg\n",
      "./Dataset/test/PNEUMONIA/SARS-10.1148rg.242035193-g04mr34g0-Fig8a-day0.jpeg\n",
      "./Dataset/test/PNEUMONIA/streptococcus-pneumoniae-pneumonia-1.jpg\n",
      "./Dataset/test/PNEUMONIA/SARS-10.1148rg.242035193-g04mr34g04a-Fig4a-day7.jpeg\n",
      "./Dataset/test/PNEUMONIA/ryct.2020200034.fig5-day4.jpeg\n",
      "./Dataset/test/PNEUMONIA/SARS-10.1148rg.242035193-g04mr34g0-Fig8b-day5.jpeg\n",
      "./Dataset/test/PNEUMONIA/SARS-10.1148rg.242035193-g04mr34g09c-Fig9c-day27.jpeg\n",
      "./Dataset/test/PNEUMONIA/SARS-10.1148rg.242035193-g04mr34g0-Fig8c-day10.jpeg\n",
      "./Dataset/test/PNEUMONIA/streptococcus-pneumoniae-pneumonia-temporal-evolution-1-day1.jpg\n",
      "./Dataset/test/PNEUMONIA/streptococcus-pneumoniae-pneumonia-temporal-evolution-1-day0.jpg\n",
      "./Dataset/test/PNEUMONIA/streptococcus-pneumoniae-pneumonia-temporal-evolution-1-day2.jpg\n",
      "./Dataset/test/PNEUMONIA/ryct.2020200034.fig5-day7.jpeg\n",
      "./Dataset/test/PNEUMONIA/streptococcus-pneumoniae-pneumonia-temporal-evolution-1-day3.jpg\n",
      "./Dataset/test/PNEUMONIA/SARS-10.1148rg.242035193-g04mr34g07a-Fig7a-day5.jpeg\n",
      "./Dataset/test/PNEUMONIA/SARS-10.1148rg.242035193-g04mr34g07b-Fig7b-day12.jpeg\n",
      "./Dataset/test/PNEUMONIA/SARS-10.1148rg.242035193-g04mr34g04b-Fig4b-day12.jpeg\n",
      "./Dataset/test/PNEUMONIA/ryct.2020200034.fig5-day0.jpeg\n",
      "./Dataset/test/PNEUMONIA/ryct.2020200034.fig2.jpeg\n",
      "./Dataset/test/PNEUMONIA/SARS-10.1148rg.242035193-g04mr34g09b-Fig9b-day19.jpeg\n",
      "./Dataset/test/NORMAL/NORMAL2-IM-0123-0001.jpeg\n",
      "./Dataset/test/NORMAL/NORMAL2-IM-0131-0001.jpeg\n",
      "./Dataset/test/NORMAL/NORMAL2-IM-0110-0001.jpeg\n",
      "./Dataset/test/NORMAL/NORMAL2-IM-0092-0001.jpeg\n",
      "./Dataset/test/NORMAL/NORMAL2-IM-0035-0001.jpeg\n",
      "./Dataset/test/NORMAL/NORMAL2-IM-0117-0001.jpeg\n",
      "./Dataset/test/NORMAL/NORMAL2-IM-0130-0001.jpeg\n",
      "./Dataset/test/NORMAL/NORMAL2-IM-0105-0001.jpeg\n",
      "./Dataset/test/NORMAL/NORMAL2-IM-0111-0001.jpeg\n",
      "./Dataset/test/NORMAL/NORMAL2-IM-0073-0001.jpeg\n",
      "./Dataset/test/NORMAL/NORMAL2-IM-0052-0001.jpeg\n",
      "./Dataset/test/NORMAL/NORMAL2-IM-0112-0001.jpeg\n",
      "./Dataset/test/NORMAL/NORMAL2-IM-0059-0001.jpeg\n",
      "./Dataset/test/NORMAL/NORMAL2-IM-0171-0001.jpeg\n",
      "./Dataset/test/NORMAL/NORMAL2-IM-0072-0001.jpeg\n",
      "./Dataset/test/NORMAL/NORMAL2-IM-0120-0001.jpeg\n",
      "./Dataset/test/NORMAL/NORMAL2-IM-0139-0001.jpeg\n",
      "./Dataset/test/NORMAL/NORMAL2-IM-0132-0001.jpeg\n",
      "./Dataset/test/NORMAL/NORMAL2-IM-0058-0001.jpeg\n",
      "./Dataset/test/NORMAL/NORMAL2-IM-0145-0001.jpeg\n",
      "./Dataset/train/PNEUMONIA/8FDE8DBA-CFBD-4B4C-B1A4-6F36A93B7E87.jpeg\n",
      "./Dataset/train/PNEUMONIA/31BA3780-2323-493F-8AED-62081B9C383B.jpeg\n",
      "./Dataset/train/PNEUMONIA/7C69C012-7479-493F-8722-ABC29C60A2DD.jpeg\n",
      "./Dataset/train/PNEUMONIA/446B2CB6-B572-40AB-B01F-1910CA07086A.jpeg\n",
      "./Dataset/train/PNEUMONIA/covid-19-pneumonia-7-PA.jpg\n",
      "./Dataset/train/PNEUMONIA/nejmoa2001191_f5-PA.jpeg\n",
      "./Dataset/train/PNEUMONIA/ARDSSevere.png\n",
      "./Dataset/train/PNEUMONIA/nejmc2001573_f1a.jpeg\n",
      "./Dataset/train/PNEUMONIA/23E99E2E-447C-46E5-8EB2-D35D12473C39.png\n",
      "./Dataset/train/PNEUMONIA/jkms-35-e79-g001-l-c.jpg\n",
      "./Dataset/train/PNEUMONIA/jkms-35-e79-g001-l-b.jpg\n",
      "./Dataset/train/PNEUMONIA/covid-19-pneumonia-14-PA.png\n",
      "./Dataset/train/PNEUMONIA/F63AB6CE-1968-4154-A70F-913AF154F53D.jpeg\n",
      "./Dataset/train/PNEUMONIA/jkms-35-e79-g001-l-a.jpg\n",
      "./Dataset/train/PNEUMONIA/5e6dd879fde9502400e58b2f.jpeg\n",
      "./Dataset/train/PNEUMONIA/7E335538-2F86-424E-A0AB-6397783A38D0.jpeg\n",
      "./Dataset/train/PNEUMONIA/nCoV-Snohomish-20382862_web1_M1-Lungs-EDH-200201-640x300@2x.jpg\n",
      "./Dataset/train/PNEUMONIA/lancet-case2a.jpg\n",
      "./Dataset/train/PNEUMONIA/5CBC2E94-D358-401E-8928-965CCD965C5C.jpeg\n",
      "./Dataset/train/PNEUMONIA/nCoV-radiol.2020200269.fig1-day7.jpeg\n",
      "./Dataset/train/PNEUMONIA/MERS-CoV-1-s2.0-S0378603X1500248X-gr4e.jpg\n",
      "./Dataset/train/PNEUMONIA/1B734A89-A1BF-49A8-A1D3-66FAFA4FAC5D.jpeg\n",
      "./Dataset/train/PNEUMONIA/auntminnie-c-2020_01_28_23_51_6665_2020_01_28_Vietnam_coronavirus.jpeg\n",
      "./Dataset/train/PNEUMONIA/auntminnie-b-2020_01_28_23_51_6665_2020_01_28_Vietnam_coronavirus.jpeg\n",
      "./Dataset/train/PNEUMONIA/auntminnie-2020_01_31_20_24_2322_2020_01_31_x-ray_coronavirus_US.jpg\n",
      "./Dataset/train/PNEUMONIA/covid-19-pneumonia-12.jpg\n",
      "./Dataset/train/PNEUMONIA/E63574A7-4188-4C8D-8D17-9D67A18A1AFA.jpeg\n",
      "./Dataset/train/PNEUMONIA/ryct.2020200028.fig1a.jpeg\n",
      "./Dataset/train/PNEUMONIA/1-s2.0-S1684118220300682-main.pdf-002-a1.png\n",
      "./Dataset/train/PNEUMONIA/6CB4EFC6-68FA-4CD5-940C-BEFA8DAFE9A7.jpeg\n",
      "./Dataset/train/PNEUMONIA/kjr-21-e24-g001-l-a.jpg\n",
      "./Dataset/train/PNEUMONIA/41591_2020_819_Fig1_HTML.webp-day10.png\n",
      "./Dataset/train/PNEUMONIA/9C34AF49-E589-44D5-92D3-168B3B04E4A6.jpeg\n",
      "./Dataset/train/PNEUMONIA/1-s2.0-S1684118220300682-main.pdf-002-a2.png\n",
      "./Dataset/train/PNEUMONIA/1-s2.0-S0140673620303706-fx1_lrg.jpg\n",
      "./Dataset/train/PNEUMONIA/7D2CF6CE-F529-4470-8356-D33FFAF98600.jpeg\n",
      "./Dataset/train/PNEUMONIA/1312A392-67A3-4EBF-9319-810CF6DA5EF6.jpeg\n",
      "./Dataset/train/PNEUMONIA/01E392EE-69F9-4E33-BFCE-E5C968654078.jpeg\n",
      "./Dataset/train/PNEUMONIA/93FE0BB1-022D-4F24-9727-987A07975FFB.jpeg\n",
      "./Dataset/train/PNEUMONIA/kjr-21-e25-g001-l-a.jpg\n",
      "./Dataset/train/PNEUMONIA/acute-respiratory-distress-syndrome-ards-1.jpg\n",
      "./Dataset/train/PNEUMONIA/E1724330-1866-4581-8CD8-CEC9B8AFEDDE.jpeg\n",
      "./Dataset/train/PNEUMONIA/nejmoa2001191_f3-PA.jpeg\n",
      "./Dataset/train/PNEUMONIA/all14238-fig-0001-m-b.jpg\n",
      "./Dataset/train/PNEUMONIA/covid-19-pneumonia-15-PA.jpg\n",
      "./Dataset/train/PNEUMONIA/all14238-fig-0001-m-c.jpg\n",
      "./Dataset/train/PNEUMONIA/7EF28E12-F628-4BEC-A8C5-E6277C2E4F60.png\n",
      "./Dataset/train/PNEUMONIA/80446565-E090-4187-A031-9D3CEAA586C8.jpeg\n",
      "./Dataset/train/PNEUMONIA/nejmoa2001191_f4.jpeg\n",
      "./Dataset/train/PNEUMONIA/2C26F453-AF3B-4517-BB9E-802CF2179543.jpeg\n",
      "./Dataset/train/PNEUMONIA/ards-secondary-to-tiger-snake-bite.png\n",
      "./Dataset/train/PNEUMONIA/all14238-fig-0002-m-e.jpg\n",
      "./Dataset/train/PNEUMONIA/pneumocystis-pneumonia-2-PA.png\n",
      "./Dataset/train/PNEUMONIA/nejmc2001573_f1b.jpeg\n",
      "./Dataset/train/PNEUMONIA/nejmoa2001191_f1-PA.jpeg\n",
      "./Dataset/train/PNEUMONIA/7AF6C1AF-D249-4BD2-8C26-449304105D03.jpeg\n",
      "./Dataset/train/PNEUMONIA/kjr-21-e24-g002-l-a.jpg\n",
      "./Dataset/train/PNEUMONIA/85E52EB3-56E9-4D67-82DA-DEA247C82886.jpeg\n",
      "./Dataset/train/PNEUMONIA/auntminnie-d-2020_01_28_23_51_6665_2020_01_28_Vietnam_coronavirus.jpeg\n",
      "./Dataset/train/PNEUMONIA/5931B64A-7B97-485D-BE60-3F1EA76BC4F0.jpeg\n",
      "./Dataset/train/PNEUMONIA/F051E018-DAD1-4506-AD43-BE4CA29E960B.jpeg\n",
      "./Dataset/train/PNEUMONIA/kjr-21-e24-g003-l-a.jpg\n",
      "./Dataset/train/PNEUMONIA/1-s2.0-S1684118220300608-main.pdf-001.jpg\n",
      "./Dataset/train/PNEUMONIA/F4341CE7-73C9-45C6-99C8-8567A5484B63.jpeg\n",
      "./Dataset/train/PNEUMONIA/2C10A413-AABE-4807-8CCE-6A2025594067.jpeg\n",
      "./Dataset/train/PNEUMONIA/CD50BA96-6982-4C80-AE7B-5F67ACDBFA56.jpeg\n",
      "./Dataset/train/PNEUMONIA/41591_2020_819_Fig1_HTML.webp-day5.png\n",
      "./Dataset/train/PNEUMONIA/1-s2.0-S1684118220300682-main.pdf-003-b1.png\n",
      "./Dataset/train/PNEUMONIA/B59DD164-51D5-40DF-A926-6A42DD52EBE8.jpeg\n",
      "./Dataset/train/PNEUMONIA/39EE8E69-5801-48DE-B6E3-BE7D1BCF3092.jpeg\n",
      "./Dataset/train/PNEUMONIA/C6EA0BE5-B01E-4113-B194-18D956675E25.jpeg\n",
      "./Dataset/train/PNEUMONIA/1-s2.0-S1684118220300608-main.pdf-002.jpg\n",
      "./Dataset/train/PNEUMONIA/171CB377-62FF-4B76-906C-F3787A01CB2E.jpeg\n",
      "./Dataset/train/PNEUMONIA/1-s2.0-S1684118220300682-main.pdf-003-b2.png\n",
      "./Dataset/train/NORMAL/IM-0031-0001.jpeg\n",
      "./Dataset/train/NORMAL/IM-0025-0001.jpeg\n",
      "./Dataset/train/NORMAL/IM-0010-0001.jpeg\n",
      "./Dataset/train/NORMAL/IM-0046-0001.jpeg\n",
      "./Dataset/train/NORMAL/NORMAL2-IM-0027-0001.jpeg\n",
      "./Dataset/train/NORMAL/NORMAL2-IM-0033-0001.jpeg\n",
      "./Dataset/train/NORMAL/NORMAL2-IM-0012-0001.jpeg\n",
      "./Dataset/train/NORMAL/IM-0009-0001.jpeg\n",
      "./Dataset/train/NORMAL/IM-0073-0001.jpeg\n",
      "./Dataset/train/NORMAL/IM-0016-0001.jpeg\n",
      "./Dataset/train/NORMAL/IM-0011-0001-0001.jpeg\n",
      "./Dataset/train/NORMAL/IM-0037-0001.jpeg\n",
      "./Dataset/train/NORMAL/IM-0084-0001.jpeg\n",
      "./Dataset/train/NORMAL/IM-0059-0001.jpeg\n",
      "./Dataset/train/NORMAL/IM-0023-0001.jpeg\n",
      "./Dataset/train/NORMAL/IM-0075-0001.jpeg\n",
      "./Dataset/train/NORMAL/IM-0061-0001.jpeg\n",
      "./Dataset/train/NORMAL/IM-0089-0001.jpeg\n",
      "./Dataset/train/NORMAL/IM-0097-0001.jpeg\n",
      "./Dataset/train/NORMAL/IM-0083-0001.jpeg\n",
      "./Dataset/train/NORMAL/IM-0030-0001.jpeg\n",
      "./Dataset/train/NORMAL/IM-0011-0001.jpeg\n",
      "./Dataset/train/NORMAL/IM-0005-0001.jpeg\n",
      "./Dataset/train/NORMAL/IM-0029-0001.jpeg\n",
      "./Dataset/train/NORMAL/IM-0101-0001.jpeg\n",
      "./Dataset/train/NORMAL/NORMAL2-IM-0007-0001.jpeg\n",
      "./Dataset/train/NORMAL/NORMAL2-IM-0013-0001.jpeg\n",
      "./Dataset/train/NORMAL/IM-0017-0001.jpeg\n",
      "./Dataset/train/NORMAL/IM-0079-0001.jpeg\n",
      "./Dataset/train/NORMAL/IM-0003-0001.jpeg\n",
      "./Dataset/train/NORMAL/IM-0033-0001-0002.jpeg\n",
      "./Dataset/train/NORMAL/IM-0091-0001.jpeg\n",
      "./Dataset/train/NORMAL/IM-0022-0001.jpeg\n",
      "./Dataset/train/NORMAL/IM-0036-0001.jpeg\n",
      "./Dataset/train/NORMAL/IM-0085-0001.jpeg\n",
      "./Dataset/train/NORMAL/IM-0041-0001.jpeg\n",
      "./Dataset/train/NORMAL/IM-0107-0001.jpeg\n",
      "./Dataset/train/NORMAL/IM-0006-0001.jpeg\n",
      "./Dataset/train/NORMAL/IM-0049-0001.jpeg\n",
      "./Dataset/train/NORMAL/IM-0033-0001.jpeg\n",
      "./Dataset/train/NORMAL/NORMAL2-IM-0028-0001.jpeg\n",
      "./Dataset/train/NORMAL/IM-0027-0001.jpeg\n",
      "./Dataset/train/NORMAL/IM-0071-0001.jpeg\n",
      "./Dataset/train/NORMAL/IM-0033-0001-0001.jpeg\n",
      "./Dataset/train/NORMAL/IM-0102-0001.jpeg\n",
      "./Dataset/train/NORMAL/IM-0050-0001.jpeg\n",
      "./Dataset/train/NORMAL/IM-0099-0001.jpeg\n",
      "./Dataset/train/NORMAL/IM-0035-0001.jpeg\n",
      "./Dataset/train/NORMAL/IM-0086-0001.jpeg\n",
      "./Dataset/train/NORMAL/IM-0021-0001.jpeg\n",
      "./Dataset/train/NORMAL/NORMAL2-IM-0023-0001.jpeg\n",
      "./Dataset/train/NORMAL/IM-0110-0001.jpeg\n",
      "./Dataset/train/NORMAL/IM-0077-0001.jpeg\n",
      "./Dataset/train/NORMAL/IM-0019-0001.jpeg\n",
      "./Dataset/train/NORMAL/IM-0063-0001.jpeg\n",
      "./Dataset/train/NORMAL/IM-0069-0001.jpeg\n",
      "./Dataset/train/NORMAL/IM-0013-0001.jpeg\n",
      "./Dataset/train/NORMAL/IM-0007-0001.jpeg\n",
      "./Dataset/train/NORMAL/IM-0095-0001.jpeg\n",
      "./Dataset/train/NORMAL/IM-0081-0001.jpeg\n",
      "./Dataset/train/NORMAL/NORMAL2-IM-0029-0001.jpeg\n",
      "./Dataset/train/NORMAL/IM-0011-0001-0002.jpeg\n",
      "./Dataset/train/NORMAL/IM-0070-0001.jpeg\n",
      "./Dataset/train/NORMAL/NORMAL2-IM-0030-0001.jpeg\n",
      "./Dataset/train/NORMAL/IM-0103-0001.jpeg\n",
      "./Dataset/train/NORMAL/IM-0045-0001.jpeg\n",
      "./Dataset/train/NORMAL/IM-0093-0001.jpeg\n",
      "./Dataset/train/NORMAL/IM-0087-0001.jpeg\n",
      "./Dataset/train/NORMAL/IM-0015-0001.jpeg\n",
      "./Dataset/train/NORMAL/IM-0001-0001.jpeg\n",
      "./Dataset/train/NORMAL/IM-0111-0001.jpeg\n",
      "./Dataset/train/NORMAL/IM-0039-0001.jpeg\n",
      "./Dataset/train/NORMAL/IM-0043-0001.jpeg\n",
      "./Dataset/train/NORMAL/IM-0105-0001.jpeg\n"
     ]
    }
   ],
   "source": [
    "# This Python 3 environment comes with many helpful analytics libraries installed\n",
    "# It is defined by the kaggle/python Docker image: https://github.com/kaggle/docker-python\n",
    "# For example, here's several helpful packages to load\n",
    "\n",
    "import numpy as np # linear algebra\n",
    "import pandas as pd # data processing, CSV file I/O (e.g. pd.read_csv)\n",
    "\n",
    "# Input data files are available in the read-only \"../input/\" directory\n",
    "# For example, running this (by clicking run or pressing Shift+Enter) will list all files under the input directory\n",
    "\n",
    "import os\n",
    "for dirname, _, filenames in os.walk('./Dataset'):\n",
    "    for filename in filenames:\n",
    "        print(os.path.join(dirname, filename))\n",
    "\n",
    "# You can write up to 20GB to the current directory (/kaggle/working/) that gets preserved as output when you create a version using \"Save & Run All\" \n",
    "# You can also write temporary files to /kaggle/temp/, but they won't be saved outside of the current session"
   ]
  },
  {
   "cell_type": "markdown",
   "metadata": {},
   "source": [
    "**IMPORTING LIBRARIES**"
   ]
  },
  {
   "cell_type": "code",
   "execution_count": 3,
   "metadata": {},
   "outputs": [],
   "source": [
    "import tensorflow as tf\n",
    "import cv2 \n",
    "from keras.preprocessing.image import ImageDataGenerator\n",
    "import matplotlib.pyplot as plt\n",
    "import pandas as pd"
   ]
  },
  {
   "cell_type": "markdown",
   "metadata": {},
   "source": [
    "**CHECKING IMAGES FOR CONFIRMATION**"
   ]
  },
  {
   "cell_type": "code",
   "execution_count": 4,
   "metadata": {},
   "outputs": [
    {
     "data": {
      "text/plain": [
       "<matplotlib.image.AxesImage at 0x7fab2b137750>"
      ]
     },
     "execution_count": 4,
     "metadata": {},
     "output_type": "execute_result"
    }
   ],
   "source": [
    "plt.imshow(cv2.imread(\"./Dataset/train/PNEUMONIA/nejmoa2001191_f1-PA.jpeg\"))"
   ]
  },
  {
   "cell_type": "code",
   "execution_count": 5,
   "metadata": {},
   "outputs": [
    {
     "data": {
      "text/plain": [
       "<matplotlib.image.AxesImage at 0x7fab3847ae10>"
      ]
     },
     "execution_count": 5,
     "metadata": {},
     "output_type": "execute_result"
    }
   ],
   "source": [
    "plt.imshow(cv2.imread(\"./Dataset/train/NORMAL/IM-0086-0001.jpeg\"))"
   ]
  },
  {
   "cell_type": "markdown",
   "metadata": {},
   "source": [
    "**PART-1 DATA PREPROCESSING**"
   ]
  },
  {
   "cell_type": "markdown",
   "metadata": {},
   "source": [
    "**TRAINING DATASET INTO TRAINING AND VALIDATION SET**"
   ]
  },
  {
   "cell_type": "code",
   "execution_count": 6,
   "metadata": {},
   "outputs": [
    {
     "name": "stdout",
     "output_type": "stream",
     "text": [
      "Found 148 images belonging to 2 classes.\n"
     ]
    }
   ],
   "source": [
    "train_datagen = ImageDataGenerator(rescale = 1./255,\n",
    "                                   shear_range = 0.2,\n",
    "                                   zoom_range = 0.2,\n",
    "                                   horizontal_flip = True)\n",
    "training_set = train_datagen.flow_from_directory('./Dataset/train',\n",
    "                                                 target_size = (64, 64),\n",
    "                                                 batch_size = 32,\n",
    "                                                 class_mode = 'binary')"
   ]
  },
  {
   "cell_type": "markdown",
   "metadata": {},
   "source": [
    "**PREPROCESSING THE VALIDATION SET**"
   ]
  },
  {
   "cell_type": "code",
   "execution_count": 7,
   "metadata": {},
   "outputs": [
    {
     "name": "stdout",
     "output_type": "stream",
     "text": [
      "Found 40 images belonging to 2 classes.\n"
     ]
    }
   ],
   "source": [
    "test_datagen = ImageDataGenerator(rescale = 1./255)\n",
    "test_set = test_datagen.flow_from_directory(\n",
    "    \"./Dataset/test\", # same directory as training data\n",
    "    target_size=(64, 64),\n",
    "    batch_size=32,\n",
    "    class_mode='binary')"
   ]
  },
  {
   "cell_type": "markdown",
   "metadata": {},
   "source": [
    "**PART-2 BUILDING THE CNN**"
   ]
  },
  {
   "cell_type": "markdown",
   "metadata": {},
   "source": [
    "**INITIALISING THE CNN**"
   ]
  },
  {
   "cell_type": "code",
   "execution_count": 8,
   "metadata": {},
   "outputs": [],
   "source": [
    "cnn = tf.keras.models.Sequential()"
   ]
  },
  {
   "cell_type": "markdown",
   "metadata": {},
   "source": [
    "**STEP-1 CONVOLUTION**"
   ]
  },
  {
   "cell_type": "code",
   "execution_count": 9,
   "metadata": {},
   "outputs": [],
   "source": [
    "cnn.add(tf.keras.layers.Conv2D(filters=32, kernel_size=3, activation='relu', input_shape=[64, 64, 3]))"
   ]
  },
  {
   "cell_type": "markdown",
   "metadata": {},
   "source": [
    "**STEP-2 POOLING**"
   ]
  },
  {
   "cell_type": "code",
   "execution_count": 10,
   "metadata": {},
   "outputs": [],
   "source": [
    "cnn.add(tf.keras.layers.MaxPool2D(pool_size=2, strides=2))"
   ]
  },
  {
   "cell_type": "markdown",
   "metadata": {},
   "source": [
    "**ADDING A SECOND CONVOLTION LAYER**"
   ]
  },
  {
   "cell_type": "code",
   "execution_count": 11,
   "metadata": {},
   "outputs": [],
   "source": [
    "cnn.add(tf.keras.layers.Conv2D(filters=32, kernel_size=3, activation='relu'))\n",
    "cnn.add(tf.keras.layers.MaxPool2D(pool_size=2, strides=2))"
   ]
  },
  {
   "cell_type": "markdown",
   "metadata": {},
   "source": [
    "**STEP-3 FLATTENING**"
   ]
  },
  {
   "cell_type": "code",
   "execution_count": 12,
   "metadata": {},
   "outputs": [],
   "source": [
    "cnn.add(tf.keras.layers.Flatten())"
   ]
  },
  {
   "cell_type": "markdown",
   "metadata": {},
   "source": [
    "**STEP-4 FULL CONNECTION**"
   ]
  },
  {
   "cell_type": "code",
   "execution_count": 13,
   "metadata": {},
   "outputs": [],
   "source": [
    "cnn.add(tf.keras.layers.Dense(units=128, activation='relu'))"
   ]
  },
  {
   "cell_type": "markdown",
   "metadata": {},
   "source": [
    "**STEP-5 OUTPUT LAYER**"
   ]
  },
  {
   "cell_type": "code",
   "execution_count": 14,
   "metadata": {},
   "outputs": [],
   "source": [
    "cnn.add(tf.keras.layers.Dense(units=1, activation='sigmoid'))"
   ]
  },
  {
   "cell_type": "markdown",
   "metadata": {},
   "source": [
    "**PART-3 TRAINING THE CNN**"
   ]
  },
  {
   "cell_type": "markdown",
   "metadata": {},
   "source": [
    "**COMPILING THE CNN**"
   ]
  },
  {
   "cell_type": "code",
   "execution_count": 15,
   "metadata": {},
   "outputs": [],
   "source": [
    "cnn.compile(optimizer = 'adam', loss = 'binary_crossentropy', metrics = ['accuracy'])"
   ]
  },
  {
   "cell_type": "markdown",
   "metadata": {},
   "source": [
    "**TRAINING THE CNN ON THE TRAINING SET AND EVALUATING THE VALIDATION SET**"
   ]
  },
  {
   "cell_type": "code",
   "execution_count": null,
   "metadata": {},
   "outputs": [
    {
     "name": "stdout",
     "output_type": "stream",
     "text": [
      "Train for 5 steps, validate for 2 steps\n",
      "Epoch 1/25\n"
     ]
    }
   ],
   "source": [
    "cnn.fit(x = training_set, validation_data = test_set, epochs = 25)"
   ]
  },
  {
   "cell_type": "markdown",
   "metadata": {},
   "source": [
    "**PART-4 MAKING A SINGLE PREDICTION**"
   ]
  },
  {
   "cell_type": "code",
   "execution_count": null,
   "metadata": {},
   "outputs": [],
   "source": [
    "import numpy as np\n",
    "from keras.preprocessing import image\n",
    "test_image = image.load_img('./Dataset/test/PNEUMONIA/streptococcus-pneumoniae-pneumonia-temporal-evolution-1-day2.jpg', target_size = (64, 64))\n",
    "test_image = image.img_to_array(test_image)\n",
    "test_image = np.expand_dims(test_image, axis = 0)\n",
    "result = cnn.predict(test_image)\n",
    "training_set.class_indices\n",
    "if result[0][0] == 1:\n",
    "  prediction = 'covid risk'\n",
    "else:\n",
    "  prediction = 'normal'"
   ]
  },
  {
   "cell_type": "code",
   "execution_count": null,
   "metadata": {},
   "outputs": [],
   "source": [
    "print(prediction)"
   ]
  }
 ],
 "metadata": {
  "kernelspec": {
   "display_name": "Python 3",
   "language": "python",
   "name": "python3"
  },
  "language_info": {
   "codemirror_mode": {
    "name": "ipython",
    "version": 3
   },
   "file_extension": ".py",
   "mimetype": "text/x-python",
   "name": "python",
   "nbconvert_exporter": "python",
   "pygments_lexer": "ipython3",
   "version": "3.7.11"
  }
 },
 "nbformat": 4,
 "nbformat_minor": 4
}
