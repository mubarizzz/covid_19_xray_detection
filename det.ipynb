{
 "cells": [
  {
   "cell_type": "markdown",
   "metadata": {},
   "source": [
    "# Import libs"
   ]
  },
  {
   "cell_type": "code",
   "execution_count": null,
   "metadata": {
    "_cell_guid": "b1076dfc-b9ad-4769-8c92-a6c4dae69d19",
    "_uuid": "8f2839f25d086af736a60e9eeb907d3b93b6e0e5",
    "execution": {
     "iopub.execute_input": "2021-05-28T07:15:39.607926Z",
     "iopub.status.busy": "2021-05-28T07:15:39.607588Z",
     "iopub.status.idle": "2021-05-28T07:15:44.554485Z",
     "shell.execute_reply": "2021-05-28T07:15:44.553659Z",
     "shell.execute_reply.started": "2021-05-28T07:15:39.607851Z"
    }
   },
   "outputs": [],
   "source": [
    "import numpy as np\n",
    "import pandas as pd\n",
    "import random\n",
    "import matplotlib.pyplot as plt\n",
    "import tensorflow as tf\n",
    "from tensorflow.keras.preprocessing.image import ImageDataGenerator\n",
    "from tensorflow.keras.callbacks import ModelCheckpoint, ReduceLROnPlateau, EarlyStopping\n",
    "from efficientnet.tfkeras import EfficientNetB0\n",
    "import efficientnet.tfkeras as efc"
   ]
  },
  {
   "cell_type": "code",
   "execution_count": 12,
   "metadata": {
    "execution": {
     "iopub.execute_input": "2021-05-28T07:15:44.556111Z",
     "iopub.status.busy": "2021-05-28T07:15:44.555789Z",
     "iopub.status.idle": "2021-05-28T07:15:44.563578Z",
     "shell.execute_reply": "2021-05-28T07:15:44.562796Z",
     "shell.execute_reply.started": "2021-05-28T07:15:44.556077Z"
    }
   },
   "outputs": [],
   "source": [
    "SEED = 24\n",
    "\n",
    "def set_seed(seed=SEED):\n",
    "    random.seed(seed)\n",
    "    np.random.seed(seed)\n",
    "    tf.random.set_seed(seed)\n",
    "    \n",
    "set_seed()"
   ]
  },
  {
   "cell_type": "markdown",
   "metadata": {},
   "source": [
    "# Load data"
   ]
  },
  {
   "cell_type": "code",
   "execution_count": 13,
   "metadata": {
    "execution": {
     "iopub.execute_input": "2021-05-28T07:15:44.565937Z",
     "iopub.status.busy": "2021-05-28T07:15:44.565567Z",
     "iopub.status.idle": "2021-05-28T07:15:44.572295Z",
     "shell.execute_reply": "2021-05-28T07:15:44.571456Z",
     "shell.execute_reply.started": "2021-05-28T07:15:44.565885Z"
    }
   },
   "outputs": [],
   "source": [
    "PATH = './Dataset'\n",
    "\n",
    "IMAGE_SIZE = (224, 224)\n",
    "EPOCHS = 70\n",
    "BATCH_SIZE = 128\n",
    "NUM_CLASSES = 3"
   ]
  },
  {
   "cell_type": "code",
   "execution_count": 14,
   "metadata": {
    "execution": {
     "iopub.execute_input": "2021-05-28T07:15:44.574279Z",
     "iopub.status.busy": "2021-05-28T07:15:44.573877Z",
     "iopub.status.idle": "2021-05-28T07:15:44.5823Z",
     "shell.execute_reply": "2021-05-28T07:15:44.581519Z",
     "shell.execute_reply.started": "2021-05-28T07:15:44.574246Z"
    }
   },
   "outputs": [],
   "source": [
    "train_gen = ImageDataGenerator(\n",
    "    horizontal_flip=True,\n",
    "    zoom_range=.3,\n",
    "    rotation_range=45,\n",
    "    validation_split=.2\n",
    ")\n",
    "\n",
    "val_gen = ImageDataGenerator(validation_split=.2)"
   ]
  },
  {
   "cell_type": "code",
   "execution_count": 15,
   "metadata": {
    "execution": {
     "iopub.execute_input": "2021-05-28T07:15:44.584004Z",
     "iopub.status.busy": "2021-05-28T07:15:44.583449Z",
     "iopub.status.idle": "2021-05-28T07:15:55.012902Z",
     "shell.execute_reply": "2021-05-28T07:15:55.011476Z",
     "shell.execute_reply.started": "2021-05-28T07:15:44.583952Z"
    }
   },
   "outputs": [
    {
     "name": "stdout",
     "output_type": "stream",
     "text": [
      "Found 151 images belonging to 2 classes.\n",
      "Found 37 images belonging to 2 classes.\n"
     ]
    }
   ],
   "source": [
    "train_data = train_gen.flow_from_directory(\n",
    "    PATH,\n",
    "    target_size=IMAGE_SIZE,\n",
    "    batch_size=BATCH_SIZE,\n",
    "    seed=SEED,\n",
    "    subset='training'\n",
    ")\n",
    "\n",
    "val_data = val_gen.flow_from_directory(\n",
    "    PATH,\n",
    "    target_size=IMAGE_SIZE,\n",
    "    batch_size=BATCH_SIZE,\n",
    "    seed=SEED,\n",
    "    shuffle=False,\n",
    "    subset='validation'\n",
    ")"
   ]
  },
  {
   "cell_type": "markdown",
   "metadata": {},
   "source": [
    "# Define model"
   ]
  },
  {
   "cell_type": "markdown",
   "metadata": {},
   "source": [
    "**EfficientNetB0** is pretty good model at image classification among the others pretrained models."
   ]
  },
  {
   "cell_type": "code",
   "execution_count": null,
   "metadata": {
    "execution": {
     "iopub.execute_input": "2021-05-28T07:15:55.014374Z",
     "iopub.status.busy": "2021-05-28T07:15:55.014045Z",
     "iopub.status.idle": "2021-05-28T07:15:59.385996Z",
     "shell.execute_reply": "2021-05-28T07:15:59.385207Z",
     "shell.execute_reply.started": "2021-05-28T07:15:55.014348Z"
    }
   },
   "outputs": [],
   "source": [
    "base_model = tf.keras.applications.EfficientNetB0(include_top=False)"
   ]
  },
  {
   "cell_type": "code",
   "execution_count": null,
   "metadata": {
    "execution": {
     "iopub.execute_input": "2021-05-28T07:15:59.395346Z",
     "iopub.status.busy": "2021-05-28T07:15:59.394663Z",
     "iopub.status.idle": "2021-05-28T07:15:59.958144Z",
     "shell.execute_reply": "2021-05-28T07:15:59.957258Z",
     "shell.execute_reply.started": "2021-05-28T07:15:59.395309Z"
    }
   },
   "outputs": [],
   "source": [
    "model = tf.keras.Sequential([\n",
    "    base_model,\n",
    "    tf.keras.layers.GlobalAveragePooling2D(),\n",
    "    tf.keras.layers.Dense(NUM_CLASSES, activation='softmax')\n",
    "])"
   ]
  },
  {
   "cell_type": "markdown",
   "metadata": {},
   "source": [
    "These callbacks are very useful. I'm gonna stop model training when it tends to overfit. Also I will save model with best weights so I can use it later in other tasks."
   ]
  },
  {
   "cell_type": "code",
   "execution_count": null,
   "metadata": {
    "execution": {
     "iopub.execute_input": "2021-05-28T07:15:59.959949Z",
     "iopub.status.busy": "2021-05-28T07:15:59.959607Z",
     "iopub.status.idle": "2021-05-28T07:15:59.965024Z",
     "shell.execute_reply": "2021-05-28T07:15:59.963896Z",
     "shell.execute_reply.started": "2021-05-28T07:15:59.959911Z"
    }
   },
   "outputs": [],
   "source": [
    "early_stopping = EarlyStopping(patience=5, verbose=1)\n",
    "checkpoint = ModelCheckpoint('mask_model.h5', save_best_only=True, verbose=1)\n",
    "lr_reduce = ReduceLROnPlateau(patience=2, verbose=1)"
   ]
  },
  {
   "cell_type": "code",
   "execution_count": null,
   "metadata": {
    "execution": {
     "iopub.execute_input": "2021-05-28T07:15:59.966793Z",
     "iopub.status.busy": "2021-05-28T07:15:59.96644Z",
     "iopub.status.idle": "2021-05-28T07:42:14.133664Z",
     "shell.execute_reply": "2021-05-28T07:42:14.132074Z",
     "shell.execute_reply.started": "2021-05-28T07:15:59.966757Z"
    }
   },
   "outputs": [],
   "source": [
    "model.compile(\n",
    "    optimizer=tf.keras.optimizers.Adam(amsgrad=True),\n",
    "    loss='categorical_crossentropy',\n",
    "#     our data classes are perfectly balanced so I'm able to use simple accuracy metric\n",
    "    metrics=['acc']\n",
    ")\n",
    "\n",
    "history = model.fit(\n",
    "    train_data,\n",
    "    validation_data=val_data,\n",
    "    epochs=EPOCHS,\n",
    "    callbacks=[early_stopping, checkpoint, lr_reduce]\n",
    ")"
   ]
  },
  {
   "cell_type": "code",
   "execution_count": null,
   "metadata": {
    "execution": {
     "iopub.execute_input": "2021-05-28T08:07:54.504455Z",
     "iopub.status.busy": "2021-05-28T08:07:54.504134Z",
     "iopub.status.idle": "2021-05-28T08:07:54.658259Z",
     "shell.execute_reply": "2021-05-28T08:07:54.657475Z",
     "shell.execute_reply.started": "2021-05-28T08:07:54.504426Z"
    }
   },
   "outputs": [],
   "source": [
    "plt.plot(history.history['loss'])\n",
    "plt.plot(history.history['val_loss'])\n",
    "plt.title('model loss')\n",
    "plt.xlabel('epoch')\n",
    "plt.ylabel('loss')\n",
    "plt.legend(['train_loss', 'val_loss'], loc='upper right')\n",
    "plt.show()"
   ]
  }
 ],
 "metadata": {
  "kernelspec": {
   "display_name": "Python 3",
   "language": "python",
   "name": "python3"
  },
  "language_info": {
   "codemirror_mode": {
    "name": "ipython",
    "version": 3
   },
   "file_extension": ".py",
   "mimetype": "text/x-python",
   "name": "python",
   "nbconvert_exporter": "python",
   "pygments_lexer": "ipython3",
   "version": "3.7.11"
  }
 },
 "nbformat": 4,
 "nbformat_minor": 4
}
